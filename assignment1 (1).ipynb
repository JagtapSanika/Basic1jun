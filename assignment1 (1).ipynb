{
 "cells": [
  {
   "cell_type": "code",
   "execution_count": 8,
   "id": "511ccc42-7437-46aa-a5f4-abe1744c43f7",
   "metadata": {},
   "outputs": [
    {
     "name": "stdin",
     "output_type": "stream",
     "text": [
      "Enter the number of days : 4556\n"
     ]
    },
    {
     "name": "stdout",
     "output_type": "stream",
     "text": [
      "Total number of year(s): 12\n",
      "Total number of Week(s): 25\n",
      "Total number of Day(s): 1\n"
     ]
    }
   ],
   "source": [
    "# 1. Write a program to convert specified days into years, weeks and days.\n",
    "# Take user input.\n",
    "# Note: Ignore leap year.\n",
    "\n",
    "num =  int(input(\"Enter the number of days :\"))\n",
    "\n",
    "year = int(num/365)\n",
    "week = int((num%365)/7)\n",
    "days = int((num%365)%7)\n",
    "\n",
    "print(\"Total number of year(s):\" , year)\n",
    "print(\"Total number of Week(s):\" , week)\n",
    "print(\"Total number of Day(s):\" , days)"
   ]
  },
  {
   "cell_type": "code",
   "execution_count": 11,
   "id": "d64e0e32-675f-4715-bae8-bcd0c6f6ba9e",
   "metadata": {},
   "outputs": [
    {
     "name": "stdin",
     "output_type": "stream",
     "text": [
      "Enter the Basic salary :- 3000\n"
     ]
    },
    {
     "name": "stdout",
     "output_type": "stream",
     "text": [
      "Gross salary of employee is: 6000.0\n"
     ]
    }
   ],
   "source": [
    "# 2. Write a Python program to input basiPython salary of an employee and\n",
    "# calculate its Gross salary according to following:\n",
    "# Basic Salary <= 10000 : HRA = 20%, DA = 80%\n",
    "# Basic Salary <= 20000 : HRA = 30%, DA = 90%\n",
    "# Basic Salary > 20000 : HRA = 35%, DA = 95%\n",
    "\n",
    "basic = float(input(\"Enter the Basic salary :-\"))\n",
    "if basic <= 10000:\n",
    "    da = basic * 0.8\n",
    "    hra = basic * 0.2\n",
    "elif  basic <= 20000:\n",
    "    da = basic * 0.9\n",
    "    hra = basic * 0.3\n",
    "else:\n",
    "    da = basic * 0.95\n",
    "    hra = basic * 0.3\n",
    "gross = basic + da + hra\n",
    "print(\"Gross salary of employee is:\" , gross)"
   ]
  },
  {
   "cell_type": "code",
   "execution_count": 4,
   "id": "54c8bd00-4497-45ef-8adf-9464cf51ea3e",
   "metadata": {},
   "outputs": [
    {
     "name": "stdin",
     "output_type": "stream",
     "text": [
      " Enter units:-  56\n"
     ]
    },
    {
     "name": "stdout",
     "output_type": "stream",
     "text": [
      "Enter units:-  56\n",
      "51.52\n"
     ]
    }
   ],
   "source": [
    "# 3. Write a Python program to input electricity unit charges and calculate total\n",
    "# electricity bill according to the given condition:\n",
    "# For first 50 units Rs. 0.50/unit\n",
    "# For next 100 units Rs. 0.75/unit\n",
    "# For next 100 units Rs. 1.25/unit\n",
    "# For unit above 250 Rs. 1.50/unit\n",
    "# An additional surcharge of 17% is added to the bill\n",
    "\n",
    "Electric_Units = int(input(\" Enter units:- \"))\n",
    "print(\"Enter units:- \" , Electric_Units)\n",
    "\n",
    "if Electric_Units <= 50:\n",
    "    T_Bill = Electric_Units * 0.50 + 0.17 * Electric_Units\n",
    "    print(T_Bill)\n",
    "elif Electric_Units <= 150:\n",
    "    T_Bill = Electric_Units * 0.75 + 0.17 * Electric_Units\n",
    "    print(T_Bill)\n",
    "elif Electric_Units <= 250:\n",
    "    T_Bill = Electric_Units * 1.25 + 0.17 * Electric_Units\n",
    "    print(T_Bill)\n",
    "else:\n",
    "    if Electric_Units <= 250:\n",
    "        T_Bill = Electric_Units * 1.50 + 0.17 * Electric_Units\n",
    "        print(T_Bill)\n",
    "\n"
   ]
  },
  {
   "cell_type": "code",
   "execution_count": 12,
   "id": "6f782b53-ca15-41f7-bba8-5ec19ebf3fd3",
   "metadata": {},
   "outputs": [
    {
     "name": "stdout",
     "output_type": "stream",
     "text": [
      "\n",
      "1 \n",
      "2 2 \n",
      "3 3 3 \n",
      "4 4 4 4 \n",
      "5 5 5 5 5 \n"
     ]
    }
   ],
   "source": [
    "# 4. Write a Python program to print the given number patterns.\n",
    "# 1\n",
    "# 2 2\n",
    "# 3 3 3\n",
    "# 4 4 4 4\n",
    "# 5 5 5 5 5\n",
    "\n",
    "rows = 6 \n",
    "for i in range(rows):\n",
    "    for j in range(i):\n",
    "        print(i, end = ' ')\n",
    "    print ('')"
   ]
  },
  {
   "cell_type": "code",
   "execution_count": 20,
   "id": "75de349d-b14e-43a8-91ad-d149b341343c",
   "metadata": {},
   "outputs": [
    {
     "name": "stdin",
     "output_type": "stream",
     "text": [
      "Enter any number :  1234\n"
     ]
    },
    {
     "name": "stdout",
     "output_type": "stream",
     "text": [
      "\n",
      "Product of all digits in 1234 24\n"
     ]
    }
   ],
   "source": [
    "# 5. Write a Python program to calculate product of digits of a number. Read\n",
    "# value of n from user.\n",
    "\n",
    "num = int(input(\"Enter any number : \"))\n",
    "temp = num\n",
    "product = 1\n",
    "while(temp != 0):\n",
    "    product = product * (temp % 10)\n",
    "    temp = int(temp / 10)\n",
    "print(\"\\nProduct of all digits in\", num , product)\n",
    "\n",
    "\n"
   ]
  },
  {
   "cell_type": "code",
   "execution_count": 82,
   "id": "3f4c2631-e862-43f7-b50c-3d42bdd3332c",
   "metadata": {},
   "outputs": [
    {
     "name": "stdout",
     "output_type": "stream",
     "text": [
      "[45, 67, 12, 'Hello', 23.45, 'World']\n",
      "['Sanika', 'Shrutika', 'TejasHree', 'Neha', 'Mital', 'Shrunali', 'Riddhi']\n",
      "False\n",
      "['World', 23.45, 'Hello', 12, 67, 45]\n",
      "[45, 67, 12, 23.45, 'World']\n",
      "[45, 67, 12, 23.45, 36, 'World']\n",
      "[45, 67, 12, 23.45, 36, 'World', [34, 'Pune']]\n"
     ]
    },
    {
     "data": {
      "text/plain": [
       "[34, 'Pune']"
      ]
     },
     "execution_count": 82,
     "metadata": {},
     "output_type": "execute_result"
    }
   ],
   "source": [
    "'''\n",
    "6. Create a list of elements like: x = [45, 67, 12, ‘Hello’, 23.45, ‘World’] and perform following operations\n",
    "1. Extract only string values from this list.\n",
    "2. Create a new list with strings in upper case\n",
    "3. Find the addition of integer values\n",
    "4. Check that the value 56 is present in it or not.\n",
    "5. Print the list in reverse order.\n",
    "6. Delete the string ‘Hello’ from it.\n",
    "7. Insert a new value of 36 at 5th position in list.\n",
    "8. Count total number of elements in list now.\n",
    "9. Extract the values from 2nd index to 5th index.\n",
    "10. Append [34, ‘Pune’] to this list.\n",
    "11. Delete the last element from list.\n",
    "'''\n",
    "\n",
    "x =  [45, 67, 12, 'Hello', 23.45, 'World']\n",
    "print(x)\n",
    "\n",
    "names = ['Sanika' , 'Shrutika' , 'TejasHree' , 'Neha' , 'Mital' , 'Shrunali' , 'Riddhi' ]\n",
    "print(names)\n",
    "[n.upper() for n in names]\n",
    "a = 56 in x\n",
    "print(a)\n",
    "rev = x[::-1]\n",
    "print(rev)\n",
    "if 'Hello' in x :\n",
    "     x.remove('Hello')\n",
    "print(x)\n",
    "x. insert(4, 36)\n",
    "print(x)\n",
    "list= x[2:5]\n",
    "x.append([34,'Pune'])\n",
    "print(x)\n",
    "x.pop()"
   ]
  },
  {
   "cell_type": "code",
   "execution_count": 74,
   "id": "c968d727-4950-4416-8b57-828dcf62e44f",
   "metadata": {},
   "outputs": [
    {
     "name": "stdout",
     "output_type": "stream",
     "text": [
      "(32.45, 42.67, 26.0, 86.35, 69.07)\n",
      "(26.0, 32.45, 42.67, 69.07, 86.35)\n",
      "False\n"
     ]
    },
    {
     "data": {
      "text/plain": [
       "{26.0, 32.45, 42.67, 69.07, 86.35}"
      ]
     },
     "execution_count": 74,
     "metadata": {},
     "output_type": "execute_result"
    }
   ],
   "source": [
    "# 7. Create a tuple of elements with 5 float values in it and perform following operations.\n",
    "# 1. Print the data in sorted manner.\n",
    "# 2. Check to see that the element 50 is present in it.\n",
    "# 3. Convert this tuple in set\n",
    "\n",
    "t = (32.45,42.67,26.00,86.35,69.07)\n",
    "\n",
    "print(t)\n",
    "\n",
    "a = list(t)\n",
    "\n",
    "a.sort()\n",
    "\n",
    "t = tuple(a)\n",
    "\n",
    "print(t)\n",
    "\n",
    "contains = 50 in a\n",
    "\n",
    "print(contains)\n",
    "\n",
    "a = set(t)\n",
    "\n",
    "a\n"
   ]
  },
  {
   "cell_type": "code",
   "execution_count": 59,
   "id": "75dc00c1-b788-4e59-842d-5a438d24b419",
   "metadata": {},
   "outputs": [
    {
     "name": "stdout",
     "output_type": "stream",
     "text": [
      "{'a': 'apple', 'b': 'ball', 'c': 'cat', 'd': 'doll', 'k': 'king'}\n",
      "{'a': 'apple', 'b': 'ball', 'c': 'cat', 'd': 'doll', 'k': 'king', 'z': 'ZEbra'}\n",
      "{'a': 'apple', 'b': 'ball', 'c': 'cat', 'd': 'dog', 'k': 'king', 'z': 'ZEbra'}\n",
      "Length of dictionary 6\n"
     ]
    }
   ],
   "source": [
    "# 8. Create a dictionary of elements: {‘a’: ‘apple’, ‘b’: ‘ball’, ‘c’: ‘cat’, ‘d’: ‘doll’, ‘k’ ‘king’} and perform following operations.\n",
    "# 1. Access the data at key ‘k’.\n",
    "# 2. Add a new values ‘z’: ‘zebra’\n",
    "# 3. Replace the contents of ‘d’ as ‘dog’\n",
    "# 4. Print all the values from this dictionary.\n",
    "# 5. Find the length of this dictionary\n",
    "\n",
    "dic= {'a': 'apple', 'b': 'ball', 'c': 'cat', 'd': 'doll', 'k': 'king'}\n",
    "\n",
    "print(dic)\n",
    "\n",
    "dic['k']\n",
    "\n",
    "dic['z']= 'ZEbra'\n",
    "\n",
    "print(dic)\n",
    "\n",
    "dic['d']= 'dog'\n",
    "\n",
    "print(dic)\n",
    "\n",
    "print('Length of dictionary' , len(dic))"
   ]
  },
  {
   "cell_type": "raw",
   "id": "335153ab-5af2-4a01-b236-0178359f596b",
   "metadata": {},
   "source": [
    "# 9. Write a program to find the second largest element in a list.\n",
    "\n",
    "list1 = [10 , 20 , 4, 45 , 99]\n",
    "print(list1)\n",
    "list1.sort(reverse = True)\n",
    "print(\"SECOND LARGEST ELEMENT IN THE LIST IS :\")\n",
    "list1[1]\n",
    "    \n",
    "\n"
   ]
  },
  {
   "cell_type": "code",
   "execution_count": 38,
   "id": "383a2cd3-303a-49c2-bd54-371bd54db2a6",
   "metadata": {},
   "outputs": [
    {
     "name": "stdout",
     "output_type": "stream",
     "text": [
      "['silver', 'gold', 'iron', 'aluminium', 'copper', 'brass', 'bronze']\n",
      "['silver', 'gold', 'iron', 'aluminium', 'brass', 'bronze']\n"
     ]
    }
   ],
   "source": [
    "# 10. This is a list of some metallic elements.\n",
    "# metals = [ 'silver','gold', ... ]\n",
    "# Make a new list that is almost identical to the metals list: the new contains the same items, in the same order, except that it does NOT contain \n",
    "#the item 'copper'\n",
    "\n",
    "metals = ['silver' , 'gold' , 'iron' , 'aluminium' , 'copper' , 'brass' , 'bronze']\n",
    "print(metals)\n",
    "metals1 = [ n for n in metals if n != 'copper']\n",
    "print(metals1)"
   ]
  },
  {
   "cell_type": "code",
   "execution_count": null,
   "id": "41d14af0-a02f-4dff-a42e-4a5d7258213f",
   "metadata": {},
   "outputs": [],
   "source": []
  }
 ],
 "metadata": {
  "kernelspec": {
   "display_name": "Python 3 (ipykernel)",
   "language": "python",
   "name": "python3"
  },
  "language_info": {
   "codemirror_mode": {
    "name": "ipython",
    "version": 3
   },
   "file_extension": ".py",
   "mimetype": "text/x-python",
   "name": "python",
   "nbconvert_exporter": "python",
   "pygments_lexer": "ipython3",
   "version": "3.11.7"
  }
 },
 "nbformat": 4,
 "nbformat_minor": 5
}
