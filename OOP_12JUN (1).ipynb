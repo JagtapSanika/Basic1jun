{
 "cells": [
  {
   "cell_type": "code",
   "execution_count": 3,
   "id": "d748bbbd-4695-4b52-8c8e-c1adb7cdead9",
   "metadata": {},
   "outputs": [],
   "source": [
    "class Employee():\n",
    "    pass"
   ]
  },
  {
   "cell_type": "code",
   "execution_count": 4,
   "id": "8138340c-9e84-4545-aaa4-185f40c05475",
   "metadata": {},
   "outputs": [],
   "source": [
    "emp1 = Employee()             # creating an instance of class            \n",
    "emp2 = Employee()"
   ]
  },
  {
   "cell_type": "code",
   "execution_count": 5,
   "id": "a5c5ede3-64b8-4786-8abd-e140f36dc3eb",
   "metadata": {},
   "outputs": [
    {
     "name": "stdout",
     "output_type": "stream",
     "text": [
      "<__main__.Employee object at 0x000001C9D292C290>\n",
      "<__main__.Employee object at 0x000001C9D292D050>\n"
     ]
    }
   ],
   "source": [
    "print(emp1)\n",
    "print(emp2)"
   ]
  },
  {
   "cell_type": "code",
   "execution_count": 6,
   "id": "8e22dd70-65b4-4626-ba1d-322807e86056",
   "metadata": {},
   "outputs": [],
   "source": [
    "# instance variables\n",
    "\n",
    "emp1.first = 'Sanika'\n",
    "emp1.last = 'Jagtap'\n",
    "emp1.salary = 51000\n",
    "\n",
    "emp2.first = 'Saniya'\n",
    "emp2.last = 'Deshmukh'\n",
    "emp2.salary = 50000"
   ]
  },
  {
   "cell_type": "code",
   "execution_count": 7,
   "id": "98fb9acc-cbe6-4f9b-8ce5-77332a749b87",
   "metadata": {},
   "outputs": [
    {
     "name": "stdout",
     "output_type": "stream",
     "text": [
      "Sanika\n"
     ]
    }
   ],
   "source": [
    "print(emp1.first)"
   ]
  },
  {
   "cell_type": "code",
   "execution_count": 8,
   "id": "675acaf6-7210-4197-90d3-f0ea2378dde7",
   "metadata": {},
   "outputs": [
    {
     "name": "stdout",
     "output_type": "stream",
     "text": [
      "Jagtap\n"
     ]
    }
   ],
   "source": [
    "print(emp1.last)"
   ]
  },
  {
   "cell_type": "code",
   "execution_count": 9,
   "id": "54e70996-e0b6-4f65-b2a8-f01c32e9a165",
   "metadata": {},
   "outputs": [
    {
     "name": "stdout",
     "output_type": "stream",
     "text": [
      "50000\n"
     ]
    }
   ],
   "source": [
    "print(emp2.salary)"
   ]
  },
  {
   "cell_type": "code",
   "execution_count": 10,
   "id": "16c0977b-235c-4dfe-a3c7-da21ea863e3b",
   "metadata": {},
   "outputs": [],
   "source": [
    "class Employee():\n",
    "\n",
    "    def __init__ (self, first, last, salary):\n",
    "        self.first = first\n",
    "        self.last = last\n",
    "        self.salary = salary\n",
    "\n",
    "    def show(self):\n",
    "        print(self.first + ' ' + 'ok')"
   ]
  },
  {
   "cell_type": "code",
   "execution_count": 11,
   "id": "da908688-2eff-44ee-a935-ac332b450ca4",
   "metadata": {},
   "outputs": [],
   "source": [
    "emp1 = Employee('Sanika', 'Jagtap' , 51000)"
   ]
  },
  {
   "cell_type": "code",
   "execution_count": 13,
   "id": "1bfdd6c5-c5d3-4a6f-b976-e31dea7b10e3",
   "metadata": {},
   "outputs": [
    {
     "name": "stdout",
     "output_type": "stream",
     "text": [
      "Sanika\n"
     ]
    }
   ],
   "source": [
    "print(emp1.first)"
   ]
  },
  {
   "cell_type": "code",
   "execution_count": 14,
   "id": "436d1f47-b29a-470d-b013-484c4bc01666",
   "metadata": {},
   "outputs": [
    {
     "name": "stdout",
     "output_type": "stream",
     "text": [
      "Jagtap\n"
     ]
    }
   ],
   "source": [
    "print(emp1.last)"
   ]
  },
  {
   "cell_type": "code",
   "execution_count": 15,
   "id": "72ded5e7-b1b5-46be-98c9-bd399902813a",
   "metadata": {},
   "outputs": [
    {
     "name": "stdout",
     "output_type": "stream",
     "text": [
      "51000\n"
     ]
    }
   ],
   "source": [
    "print(emp1.salary)"
   ]
  },
  {
   "cell_type": "code",
   "execution_count": 16,
   "id": "efd6a2c4-b943-4816-a10e-8abc66ccc222",
   "metadata": {},
   "outputs": [
    {
     "name": "stdout",
     "output_type": "stream",
     "text": [
      "Sanika ok\n"
     ]
    }
   ],
   "source": [
    "emp1.show()"
   ]
  },
  {
   "cell_type": "code",
   "execution_count": 17,
   "id": "690ee49b-d27f-431f-bbed-2b9ad0ccf2fe",
   "metadata": {},
   "outputs": [],
   "source": [
    "class Employee1():\n",
    "\n",
    "    def __init__ (self, first, last, salary):       # initial method\n",
    "        self.first = first\n",
    "        self.last = last\n",
    "        self.__salary = salary                      # private variable\n",
    "\n",
    "    def show(self):\n",
    "        print(self.__salary)"
   ]
  },
  {
   "cell_type": "code",
   "execution_count": 23,
   "id": "c03ce5dc-41fd-43ba-b81d-56afa8ef6a0e",
   "metadata": {},
   "outputs": [],
   "source": [
    "emp1 = Employee1('Sanika', 'Jagtap', 51000)\n",
    "emp2 = Employee1('Saniya', 'Deshmuk', 50000)"
   ]
  },
  {
   "cell_type": "code",
   "execution_count": 24,
   "id": "72a7b4d6-73f6-42da-8d8f-687561475b0b",
   "metadata": {},
   "outputs": [
    {
     "name": "stdout",
     "output_type": "stream",
     "text": [
      "Sanika\n"
     ]
    }
   ],
   "source": [
    "print(emp1.first)"
   ]
  },
  {
   "cell_type": "code",
   "execution_count": 25,
   "id": "bdf1e7f6-c652-41a0-80c0-1a87b17a79ca",
   "metadata": {},
   "outputs": [
    {
     "name": "stdout",
     "output_type": "stream",
     "text": [
      "Jagtap\n"
     ]
    }
   ],
   "source": [
    "print(emp1.last)"
   ]
  },
  {
   "cell_type": "code",
   "execution_count": 26,
   "id": "c682a886-fe16-490f-80ff-877f29c0c992",
   "metadata": {},
   "outputs": [
    {
     "ename": "AttributeError",
     "evalue": "'Employee1' object has no attribute 'salary'",
     "output_type": "error",
     "traceback": [
      "\u001b[1;31m---------------------------------------------------------------------------\u001b[0m",
      "\u001b[1;31mAttributeError\u001b[0m                            Traceback (most recent call last)",
      "Cell \u001b[1;32mIn[26], line 1\u001b[0m\n\u001b[1;32m----> 1\u001b[0m \u001b[38;5;28mprint\u001b[39m(emp1\u001b[38;5;241m.\u001b[39msalary)\n",
      "\u001b[1;31mAttributeError\u001b[0m: 'Employee1' object has no attribute 'salary'"
     ]
    }
   ],
   "source": [
    "print(emp1.salary)"
   ]
  },
  {
   "cell_type": "code",
   "execution_count": 27,
   "id": "82ffc2b0-8fcd-4fb8-bfa3-4ca19161cca5",
   "metadata": {},
   "outputs": [
    {
     "name": "stdout",
     "output_type": "stream",
     "text": [
      "Saniya\n"
     ]
    }
   ],
   "source": [
    "print(emp2.first)"
   ]
  },
  {
   "cell_type": "code",
   "execution_count": 28,
   "id": "0f0ab9cc-b3df-46ab-9c89-48672c7447b8",
   "metadata": {},
   "outputs": [
    {
     "ename": "AttributeError",
     "evalue": "'Employee1' object has no attribute 'salary'",
     "output_type": "error",
     "traceback": [
      "\u001b[1;31m---------------------------------------------------------------------------\u001b[0m",
      "\u001b[1;31mAttributeError\u001b[0m                            Traceback (most recent call last)",
      "Cell \u001b[1;32mIn[28], line 1\u001b[0m\n\u001b[1;32m----> 1\u001b[0m \u001b[38;5;28mprint\u001b[39m(emp2\u001b[38;5;241m.\u001b[39msalary)\n",
      "\u001b[1;31mAttributeError\u001b[0m: 'Employee1' object has no attribute 'salary'"
     ]
    }
   ],
   "source": [
    "print(emp2.salary)"
   ]
  },
  {
   "cell_type": "code",
   "execution_count": 29,
   "id": "d2bfe5b1-0dca-47c4-9312-0cb34796dadd",
   "metadata": {},
   "outputs": [
    {
     "name": "stdout",
     "output_type": "stream",
     "text": [
      "51000\n"
     ]
    }
   ],
   "source": [
    "emp1.show()"
   ]
  },
  {
   "cell_type": "code",
   "execution_count": 30,
   "id": "2a4ac5b8-1b75-4169-9b20-02ee040898c9",
   "metadata": {},
   "outputs": [
    {
     "name": "stdout",
     "output_type": "stream",
     "text": [
      "50000\n"
     ]
    }
   ],
   "source": [
    "emp2.show()"
   ]
  },
  {
   "cell_type": "code",
   "execution_count": 33,
   "id": "07231ac4-866b-412d-b8d4-f8d4730d341f",
   "metadata": {},
   "outputs": [],
   "source": [
    "'''\n",
    "Create a class called person attributes => name,age,city,...(make use of default parameters also)\n",
    "create a method which will show all the info of person\n",
    "'''\n",
    "\n",
    "class person():\n",
    "\n",
    "    def __init__ (self, n, a = 25):\n",
    "        self.name = n\n",
    "        self.age = a\n",
    "\n",
    "    def info(self):\n",
    "        print('name', self.name)\n",
    "        print('age', self.age)"
   ]
  },
  {
   "cell_type": "code",
   "execution_count": 34,
   "id": "6fdaa78f-a03e-4e68-a6ac-30ab78f111be",
   "metadata": {},
   "outputs": [],
   "source": [
    "p1 = person('Jonh', 21)"
   ]
  },
  {
   "cell_type": "code",
   "execution_count": 1,
   "id": "ce70e7ba-c7da-43a1-8b78-e47770f881df",
   "metadata": {},
   "outputs": [
    {
     "ename": "NameError",
     "evalue": "name 'person' is not defined",
     "output_type": "error",
     "traceback": [
      "\u001b[1;31m---------------------------------------------------------------------------\u001b[0m",
      "\u001b[1;31mNameError\u001b[0m                                 Traceback (most recent call last)",
      "Cell \u001b[1;32mIn[1], line 1\u001b[0m\n\u001b[1;32m----> 1\u001b[0m p2 \u001b[38;5;241m=\u001b[39m person(\u001b[38;5;124m'\u001b[39m\u001b[38;5;124mNeha\u001b[39m\u001b[38;5;124m'\u001b[39m, \u001b[38;5;241m22\u001b[39m)\n",
      "\u001b[1;31mNameError\u001b[0m: name 'person' is not defined"
     ]
    }
   ],
   "source": [
    "p2 = person('Neha', 22)"
   ]
  },
  {
   "cell_type": "code",
   "execution_count": null,
   "id": "e92492f5-47f8-4d04-a952-b322e725877e",
   "metadata": {},
   "outputs": [],
   "source": []
  }
 ],
 "metadata": {
  "kernelspec": {
   "display_name": "Python 3 (ipykernel)",
   "language": "python",
   "name": "python3"
  },
  "language_info": {
   "codemirror_mode": {
    "name": "ipython",
    "version": 3
   },
   "file_extension": ".py",
   "mimetype": "text/x-python",
   "name": "python",
   "nbconvert_exporter": "python",
   "pygments_lexer": "ipython3",
   "version": "3.11.7"
  }
 },
 "nbformat": 4,
 "nbformat_minor": 5
}
