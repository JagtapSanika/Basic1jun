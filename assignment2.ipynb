{
 "cells": [
  {
   "cell_type": "code",
   "execution_count": 48,
   "id": "c49e85dd-f111-4544-ba82-47424cc012fb",
   "metadata": {},
   "outputs": [],
   "source": [
    " import tkinter as tk\n",
    " from tkinter import BooleanVar\n",
    " from tkinter import scrolledtext\n",
    " from tkinter.ttk import *\n",
    " from tkinter import messagebox"
   ]
  },
  {
   "cell_type": "markdown",
   "id": "cf537d31-a878-4beb-a15a-bffa017be0a1",
   "metadata": {},
   "source": [
    "\n",
    "#### Q1] Create a package named 'cricket' which will contain modules named batsman & bowler.\n",
    "#### Create following functions in respective modules.\n",
    "#### Import the package and call all these functions in your program\n",
    "#### batsman: findaverage(runs,matches) , strikerate(runs,balls)\n",
    "#### bowler: findavg(runs,wicket), economyrate(overs,runs)\n",
    "\n"
   ]
  },
  {
   "cell_type": "code",
   "execution_count": 28,
   "id": "0c5304eb-5cb4-46ab-947e-4fb29191e878",
   "metadata": {},
   "outputs": [
    {
     "name": "stdout",
     "output_type": "stream",
     "text": [
      "FOR BATSMAN\n"
     ]
    },
    {
     "name": "stdin",
     "output_type": "stream",
     "text": [
      "Enter runs: 100\n",
      "Enter matches: 3\n",
      "Enter balls: 56\n"
     ]
    },
    {
     "name": "stdout",
     "output_type": "stream",
     "text": [
      "Batsman average= 33.333333333333336\n",
      "Batsman strikerate= 178.57142857142858\n",
      "\n",
      "FOR BOWLER\n"
     ]
    },
    {
     "name": "stdin",
     "output_type": "stream",
     "text": [
      "Enter runs: 89\n",
      "Enter wickets: 4\n",
      "Enter overs: 3\n"
     ]
    },
    {
     "name": "stdout",
     "output_type": "stream",
     "text": [
      "Bowler average= 22.25\n",
      "Bowler economyrate= 29.666666666666668\n"
     ]
    }
   ],
   "source": [
    "from cricket import batsman,bowler\n",
    "\n",
    "print('FOR BATSMAN')\n",
    "\n",
    "runs = int(input('Enter runs:'))\n",
    "matches = int(input('Enter matches:'))\n",
    "balls = int(input('Enter balls:'))\n",
    "\n",
    "print('Batsman average=' , batsman.findaverage(runs,matches))\n",
    "\n",
    "print('Batsman strikerate=' , batsman.strikerate(runs,balls))\n",
    "\n",
    "print('')\n",
    "\n",
    "print('FOR BOWLER')\n",
    "\n",
    "runs = int(input('Enter runs:'))\n",
    "wickets = int(input('Enter wickets:'))\n",
    "overs = int(input('Enter overs:'))\n",
    "\n",
    "print('Bowler average=' , bowler.findavg(runs,wickets))\n",
    "\n",
    "print('Bowler economyrate=' , bowler.economyrate(overs,runs))"
   ]
  },
  {
   "cell_type": "markdown",
   "id": "818b75b9-2ea1-40b8-968a-5c114e33d186",
   "metadata": {},
   "source": [
    "#### Q2] write a python function to find whether number is prime or not\n",
    "#### def isPrime(num)"
   ]
  },
  {
   "cell_type": "code",
   "execution_count": 9,
   "id": "0fe4e8fb-e202-4bac-a6e9-95194865bd12",
   "metadata": {},
   "outputs": [],
   "source": [
    "def isPrime(num):\n",
    "    if num > 1:\n",
    "        for i in range(2, (num // 2)+1):\n",
    "            if(num % i) == 0:\n",
    "                print('not a prime number')\n",
    "                break\n",
    "            else:\n",
    "                print('prime number')\n",
    "    else:\n",
    "        print('not a prime number')"
   ]
  },
  {
   "cell_type": "code",
   "execution_count": 10,
   "id": "21e62a49-5c20-4323-b1a7-b263c5f232c6",
   "metadata": {},
   "outputs": [
    {
     "name": "stdout",
     "output_type": "stream",
     "text": [
      "prime number\n"
     ]
    }
   ],
   "source": [
    "isPrime(5)"
   ]
  },
  {
   "cell_type": "code",
   "execution_count": 11,
   "id": "832649a3-f202-44b3-ac57-5062d2da6500",
   "metadata": {},
   "outputs": [
    {
     "name": "stdout",
     "output_type": "stream",
     "text": [
      "not a prime number\n"
     ]
    }
   ],
   "source": [
    "isPrime(4)"
   ]
  },
  {
   "cell_type": "markdown",
   "id": "6b18be72-6fc5-4c7c-aa55-cff9a8694358",
   "metadata": {},
   "source": [
    "#### Q3 write a function is_pallindrome(string) that takes a string as input and returns  True if the string reads the same backward as forward\n",
    "#### eg. \"racecar\" is a pallindrome"
   ]
  },
  {
   "cell_type": "code",
   "execution_count": 13,
   "id": "897a6fae-22f7-4d3f-b1b8-eeaa475046a6",
   "metadata": {},
   "outputs": [],
   "source": [
    "def is_palindrome(string):\n",
    "    if string == string[::-1]:\n",
    "        print(string, 'is pallindrome')\n",
    "    else:\n",
    "        print(string, 'is not pallindrome')\n",
    "    "
   ]
  },
  {
   "cell_type": "code",
   "execution_count": 15,
   "id": "defdb8e2-8c9b-4cfa-9ca1-de7a8baeed4d",
   "metadata": {},
   "outputs": [
    {
     "name": "stdout",
     "output_type": "stream",
     "text": [
      "racecar is pallindrome\n"
     ]
    }
   ],
   "source": [
    "is_palindrome('racecar')"
   ]
  },
  {
   "cell_type": "code",
   "execution_count": 16,
   "id": "287c3353-e445-4712-8fdb-1ea1c0677d1b",
   "metadata": {},
   "outputs": [
    {
     "name": "stdout",
     "output_type": "stream",
     "text": [
      "hello is not pallindrome\n"
     ]
    }
   ],
   "source": [
    "is_palindrome('hello')"
   ]
  },
  {
   "cell_type": "markdown",
   "id": "9ea9cb10-dce4-4187-827b-8ce88ccf3f1b",
   "metadata": {},
   "source": [
    "#### Q4 Write a function reverse_list(data) that takes a list as input and returns a new list with elements in reverse order"
   ]
  },
  {
   "cell_type": "code",
   "execution_count": 18,
   "id": "c6831f31-66e8-4f85-8df8-e8396d0de3d7",
   "metadata": {},
   "outputs": [],
   "source": [
    "data = [12,23,34,45,56,67]\n",
    "\n",
    "def reverse_list(data):\n",
    "    print(data[::-1])"
   ]
  },
  {
   "cell_type": "code",
   "execution_count": 19,
   "id": "cedcf84d-e1b8-41b8-92c8-d3348c17c65a",
   "metadata": {},
   "outputs": [
    {
     "name": "stdout",
     "output_type": "stream",
     "text": [
      "[67, 56, 45, 34, 23, 12]\n"
     ]
    }
   ],
   "source": [
    "reverse_list(data)"
   ]
  },
  {
   "cell_type": "markdown",
   "id": "84af8773-b3d7-46dc-86e9-859565b08b3e",
   "metadata": {},
   "source": [
    "#### Q5 write a function write_file(filename,content) that takes a filename and content as input and writes the content to the specified file"
   ]
  },
  {
   "cell_type": "code",
   "execution_count": 12,
   "id": "4ce15e3c-18c8-49c0-b505-9cc19f2ba4f9",
   "metadata": {},
   "outputs": [
    {
     "name": "stdout",
     "output_type": "stream",
     "text": [
      "Successfully wrote content to {'test.txt'}\n"
     ]
    }
   ],
   "source": [
    "def write_file(filename, content):\n",
    "    try:\n",
    "        with open(filename, 'w') as file:\n",
    "            file.write(content)\n",
    "        print(\"Successfully wrote content to\", {filename})\n",
    "    except IOError:\n",
    "        print(\"Error: Could not write to\", {filename})\n",
    "\n",
    "# Example usage:\n",
    "filename = \"test.txt\"\n",
    "content = \"\"\" Helloo This is a sample text.\n",
    "It will be written to a file.\n",
    "Goodbye!\"\"\"\n",
    "write_file(filename, content)"
   ]
  },
  {
   "cell_type": "markdown",
   "id": "5b45cd37-4e41-4e49-9a0e-a0e941a967d0",
   "metadata": {},
   "source": [
    "#### Q6 Write a function copy_file(source_filename, destination_filename) that\n",
    "#### takes the source and destination filenames as input and copies the content of the source\n",
    "#### file to the destination file. Handle cases where the source file doesn't exist.\n"
   ]
  },
  {
   "cell_type": "code",
   "execution_count": 9,
   "id": "e9b1914d-dfba-44a0-b740-cf95f3b4e254",
   "metadata": {},
   "outputs": [
    {
     "name": "stdout",
     "output_type": "stream",
     "text": [
      "Error: Source file 'src.txt' not found.\n"
     ]
    }
   ],
   "source": [
    "def copy_file(source_file, destination_file):\n",
    "    try:\n",
    "        with open(source_file, 'r') as source_file:\n",
    "            content = source_file.read()\n",
    "       \n",
    "        with open(destination_file, 'w') as destination_file:\n",
    "            destination_file.write(content)\n",
    "       \n",
    "        print(f\"Successfully copied content from {source_file} to {destination_file}\")\n",
    "   \n",
    "    except FileNotFoundError:\n",
    "        print(f\"Error: Source file '{source_file}' not found.\")\n",
    "   \n",
    "    except IOError as e:\n",
    "        print(f\"Error: Unable to copy file. {e}\")\n",
    "        \n",
    "\n",
    "# Calling the function :\n",
    "source= \"src.txt\"\n",
    "destination= \"des.txt\"\n",
    "copy_file(source, destination)"
   ]
  },
  {
   "cell_type": "markdown",
   "id": "67cc6d49-b31d-4651-9781-e4aaf681e840",
   "metadata": {},
   "source": [
    "#### Q7 Implement a function to calculate the dot product of two NumPy arrays."
   ]
  },
  {
   "cell_type": "code",
   "execution_count": 8,
   "id": "6914fc85-343c-4f62-beeb-53de86f1a408",
   "metadata": {},
   "outputs": [
    {
     "name": "stdout",
     "output_type": "stream",
     "text": [
      "Dot Product of :\n",
      " [5 6 7] and [1 2 3] is: \n",
      " 38\n"
     ]
    }
   ],
   "source": [
    "import numpy as np\n",
    "\n",
    "def dot_pr(arr1,arr2):\n",
    "    result=np.dot(arr1,arr2)\n",
    "    return result\n",
    "\n",
    "\n",
    "a1=np.array([5,6,7])\n",
    "a2=np.array([1,2,3])\n",
    "res = dot_pr(a1,a2)\n",
    "print('Dot Product of :\\n',a1,'and',a2,'is: \\n',res)"
   ]
  },
  {
   "cell_type": "markdown",
   "id": "fc52f764-da17-4615-a51f-adf04b58dc27",
   "metadata": {},
   "source": [
    "#### Q8 implement a GUI with a radio button selection for choosing a favorite color (e.g., red,\n",
    "#### green, blue). Change the background color of the window based on the selected radio\n",
    "#### button."
   ]
  },
  {
   "cell_type": "code",
   "execution_count": 4,
   "id": "c1eae29b-ddbd-4a10-8755-03eb1048fb2f",
   "metadata": {},
   "outputs": [],
   "source": [
    "import tkinter as tk\n",
    "from tkinter import ttk"
   ]
  },
  {
   "cell_type": "code",
   "execution_count": 5,
   "id": "fcca8a96-f6a5-48a9-994b-42946263eb4d",
   "metadata": {},
   "outputs": [],
   "source": [
    "def change_color():\n",
    "    color = selected_color.get()\n",
    "    if color == 1:\n",
    "        root.configure(background='red')\n",
    "    elif color == 2:\n",
    "        root.configure(background='green')\n",
    "    elif color == 3:\n",
    "        root.configure(background='blue')\n",
    "\n",
    "# Create the main window\n",
    "root = tk.Tk()\n",
    "root.title(\"Favorite Color Selector\")\n",
    "# Variable to store the selected color\n",
    "selected_color = tk.IntVar()\n",
    "\n",
    "# Function to change the color based on selection\n",
    "selected_color.trace_add('write', lambda *args: change_color())\n",
    "\n",
    "# Create radio buttons for color selection\n",
    "red_radio = tk.Radiobutton(root, text=\"Red\", variable=selected_color, value=1)\n",
    "green_radio = tk.Radiobutton(root, text=\"Green\", variable=selected_color, value=2)\n",
    "blue_radio = tk.Radiobutton(root, text=\"Blue\", variable=selected_color, value=3)\n",
    "\n",
    "# Place the radio buttons in the window\n",
    "red_radio.pack(pady=5)\n",
    "green_radio.pack(pady=5)\n",
    "blue_radio.pack(pady=5)\n",
    "# Start the main GUI loop\n",
    "root.mainloop()\n"
   ]
  },
  {
   "cell_type": "markdown",
   "id": "93a62b87-ec28-4a2f-bac8-251aa9bb2a4d",
   "metadata": {},
   "source": [
    "#### Q9  Design a currency converter GUI. Allow users to enter an amount and select the\n",
    "#### currencies they want to convert between (e.g., USD, EUR). Display the converted\n",
    "#### amount in the selected currency"
   ]
  },
  {
   "cell_type": "code",
   "execution_count": 51,
   "id": "5cdf72c4-e5cb-43b1-9659-60faf233ff3c",
   "metadata": {},
   "outputs": [],
   "source": [
    "import tkinter as tk\n",
    "from tkinter import ttk, messagebox\n",
    "import requests\n",
    "\n",
    "class CurrencyConverter(tk.Tk):\n",
    "    def _init_(self):\n",
    "        super()._init_()\n",
    "\n",
    "        self.title(\"Currency Converter\")\n",
    "        self.geometry(\"400x200\")\n",
    "\n",
    "        self.amount_label = tk.Label(self, text=\"Amount:\")\n",
    "        self.amount_label.grid(row=0, column=0, padx=10, pady=10)\n",
    "        \n",
    "        self.amount_entry = tk.Entry(self)\n",
    "        self.amount_entry.grid(row=0, column=1, padx=10, pady=10)\n",
    "\n",
    "        self.from_currency_label = tk.Label(self, text=\"From:\")\n",
    "        self.from_currency_label.grid(row=1, column=0, padx=10, pady=10)\n",
    "        \n",
    "        self.from_currency_combobox = ttk.Combobox(self, values=self.get_currency_list())\n",
    "        self.from_currency_combobox.grid(row=1, column=1, padx=10, pady=10)\n",
    "\n",
    "        self.to_currency_label = tk.Label(self, text=\"To:\")\n",
    "        self.to_currency_label.grid(row=2, column=0, padx=10, pady=10)\n",
    "        \n",
    "        self.to_currency_combobox = ttk.Combobox(self, values=self.get_currency_list())\n",
    "        self.to_currency_combobox.grid(row=2, column=1, padx=10, pady=10)\n",
    "\n",
    "        self.convert_button = tk.Button(self, text=\"Convert\", command=self.convert_currency)\n",
    "        self.convert_button.grid(row=3, column=1, padx=10, pady=10)\n",
    "\n",
    "        self.result_label = tk.Label(self, text=\"Converted Amount:\")\n",
    "        self.result_label.grid(row=4, column=0, padx=10, pady=10)\n",
    "        \n",
    "        self.result_value = tk.Label(self, text=\"\")\n",
    "        self.result_value.grid(row=4, column=1, padx=10, pady=10)\n",
    "\n",
    "    def get_currency_list(self):\n",
    "        response = requests.get('https://api.exchangerate-api.com/v4/latest/USD')\n",
    "        if response.status_code == 200:\n",
    "            data = response.json()\n",
    "            return list(data['rates'].keys())\n",
    "        else:\n",
    "            messagebox.showerror(\"Error\", \"Failed to fetch currency list\")\n",
    "            return []\n",
    "\n",
    "    def convert_currency(self):\n",
    "        try:\n",
    "            amount = float(self.amount_entry.get())\n",
    "            from_currency = self.from_currency_combobox.get()\n",
    "            to_currency = self.to_currency_combobox.get()\n",
    "\n",
    "            response = requests.get(f'https://api.exchangerate-api.com/v4/latest/{from_currency}')\n",
    "            if response.status_code == 200:\n",
    "                data = response.json()\n",
    "                rate = data['rates'][to_currency]\n",
    "                converted_amount = amount * rate\n",
    "                self.result_value.config(text=f\"{converted_amount:.2f}\")\n",
    "            else:\n",
    "                messagebox.showerror(\"Error\", \"Failed to fetch conversion rate\")\n",
    "        except ValueError:\n",
    "            messagebox.showerror(\"Error\", \"Invalid amount entered\")\n",
    "        except Exception as e:\n",
    "            messagebox.showerror(\"Error\", str(e))\n",
    "\n",
    "if __name__==\"__main__\":\n",
    "    app = CurrencyConverter()\n",
    "    app.mainloop()"
   ]
  },
  {
   "cell_type": "code",
   "execution_count": null,
   "id": "79ea974f-f5bb-4947-91ed-5c7edfcb5e49",
   "metadata": {},
   "outputs": [],
   "source": []
  }
 ],
 "metadata": {
  "kernelspec": {
   "display_name": "Python 3 (ipykernel)",
   "language": "python",
   "name": "python3"
  },
  "language_info": {
   "codemirror_mode": {
    "name": "ipython",
    "version": 3
   },
   "file_extension": ".py",
   "mimetype": "text/x-python",
   "name": "python",
   "nbconvert_exporter": "python",
   "pygments_lexer": "ipython3",
   "version": "3.11.7"
  }
 },
 "nbformat": 4,
 "nbformat_minor": 5
}
